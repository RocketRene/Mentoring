{
 "metadata": {
  "language_info": {
   "codemirror_mode": {
    "name": "ipython",
    "version": 3
   },
   "file_extension": ".py",
   "mimetype": "text/x-python",
   "name": "python",
   "nbconvert_exporter": "python",
   "pygments_lexer": "ipython3",
   "version": "3.8.5-final"
  },
  "orig_nbformat": 2,
  "kernelspec": {
   "name": "python38564bit6f3fadff4b494b78a9d14d5b16f272c3",
   "display_name": "Python 3.8.5 64-bit",
   "language": "python"
  }
 },
 "nbformat": 4,
 "nbformat_minor": 2,
 "cells": [
  {
   "cell_type": "code",
   "execution_count": 1,
   "metadata": {},
   "outputs": [
    {
     "output_type": "error",
     "ename": "ImportError",
     "evalue": "libjpeg-ba7bf5af.so.9.4.0: cannot open shared object file: No such file or directory",
     "traceback": [
      "\u001b[0;31m---------------------------------------------------------------------------\u001b[0m",
      "\u001b[0;31mImportError\u001b[0m                               Traceback (most recent call last)",
      "\u001b[0;32m<ipython-input-1-61905003227e>\u001b[0m in \u001b[0;36m<module>\u001b[0;34m\u001b[0m\n\u001b[1;32m      1\u001b[0m \u001b[0;32mimport\u001b[0m \u001b[0mos\u001b[0m\u001b[0;34m\u001b[0m\u001b[0;34m\u001b[0m\u001b[0m\n\u001b[1;32m      2\u001b[0m \u001b[0;32mimport\u001b[0m \u001b[0mshutil\u001b[0m\u001b[0;34m\u001b[0m\u001b[0;34m\u001b[0m\u001b[0m\n\u001b[0;32m----> 3\u001b[0;31m \u001b[0;32mfrom\u001b[0m \u001b[0mPIL\u001b[0m \u001b[0;32mimport\u001b[0m \u001b[0mImage\u001b[0m\u001b[0;34m,\u001b[0m \u001b[0mImageDraw\u001b[0m\u001b[0;34m\u001b[0m\u001b[0;34m\u001b[0m\u001b[0m\n\u001b[0m\u001b[1;32m      4\u001b[0m \u001b[0;34m\u001b[0m\u001b[0m\n\u001b[1;32m      5\u001b[0m \u001b[0;34m\u001b[0m\u001b[0m\n",
      "\u001b[0;32m~/.local/lib/python3.8/site-packages/PIL/Image.py\u001b[0m in \u001b[0;36m<module>\u001b[0;34m\u001b[0m\n\u001b[1;32m     92\u001b[0m     \u001b[0;31m# Also note that Image.core is not a publicly documented interface,\u001b[0m\u001b[0;34m\u001b[0m\u001b[0;34m\u001b[0m\u001b[0;34m\u001b[0m\u001b[0m\n\u001b[1;32m     93\u001b[0m     \u001b[0;31m# and should be considered private and subject to change.\u001b[0m\u001b[0;34m\u001b[0m\u001b[0;34m\u001b[0m\u001b[0;34m\u001b[0m\u001b[0m\n\u001b[0;32m---> 94\u001b[0;31m     \u001b[0;32mfrom\u001b[0m \u001b[0;34m.\u001b[0m \u001b[0;32mimport\u001b[0m \u001b[0m_imaging\u001b[0m \u001b[0;32mas\u001b[0m \u001b[0mcore\u001b[0m\u001b[0;34m\u001b[0m\u001b[0;34m\u001b[0m\u001b[0m\n\u001b[0m\u001b[1;32m     95\u001b[0m \u001b[0;34m\u001b[0m\u001b[0m\n\u001b[1;32m     96\u001b[0m     \u001b[0;32mif\u001b[0m \u001b[0m__version__\u001b[0m \u001b[0;34m!=\u001b[0m \u001b[0mgetattr\u001b[0m\u001b[0;34m(\u001b[0m\u001b[0mcore\u001b[0m\u001b[0;34m,\u001b[0m \u001b[0;34m\"PILLOW_VERSION\"\u001b[0m\u001b[0;34m,\u001b[0m \u001b[0;32mNone\u001b[0m\u001b[0;34m)\u001b[0m\u001b[0;34m:\u001b[0m\u001b[0;34m\u001b[0m\u001b[0;34m\u001b[0m\u001b[0m\n",
      "\u001b[0;31mImportError\u001b[0m: libjpeg-ba7bf5af.so.9.4.0: cannot open shared object file: No such file or directory"
     ]
    }
   ],
   "source": [
    "import os\n",
    "import shutil\n",
    "from PIL import Image, ImageDraw\n",
    "\n",
    "\n",
    "\n",
    "os.chdir('/home/rene/Coding')\n",
    "if os.path.exists('Demo'):\n",
    "    shutil.rmtree('Demo')"
   ]
  },
  {
   "cell_type": "code",
   "execution_count": 39,
   "metadata": {},
   "outputs": [
    {
     "output_type": "error",
     "ename": "NameError",
     "evalue": "name 'PIL' is not defined",
     "traceback": [
      "\u001b[0;31m---------------------------------------------------------------------------\u001b[0m",
      "\u001b[0;31mNameError\u001b[0m                                 Traceback (most recent call last)",
      "\u001b[0;32m<ipython-input-39-8a23cdfcc2c4>\u001b[0m in \u001b[0;36m<module>\u001b[0;34m\u001b[0m\n\u001b[0;32m----> 1\u001b[0;31m \u001b[0mimg\u001b[0m \u001b[0;34m=\u001b[0m \u001b[0mPIL\u001b[0m\u001b[0;34m.\u001b[0m\u001b[0mImage\u001b[0m\u001b[0;34m.\u001b[0m\u001b[0mopen\u001b[0m\u001b[0;34m(\u001b[0m\u001b[0;34m'img.jpg'\u001b[0m\u001b[0;34m)\u001b[0m\u001b[0;34m\u001b[0m\u001b[0;34m\u001b[0m\u001b[0m\n\u001b[0m\u001b[1;32m      2\u001b[0m \u001b[0mexif_data\u001b[0m \u001b[0;34m=\u001b[0m \u001b[0mimg\u001b[0m\u001b[0;34m.\u001b[0m\u001b[0m_getexif\u001b[0m\u001b[0;34m(\u001b[0m\u001b[0;34m)\u001b[0m\u001b[0;34m\u001b[0m\u001b[0;34m\u001b[0m\u001b[0m\n\u001b[1;32m      3\u001b[0m \u001b[0mprint\u001b[0m\u001b[0;34m(\u001b[0m\u001b[0mexif_data\u001b[0m\u001b[0;34m)\u001b[0m\u001b[0;34m\u001b[0m\u001b[0;34m\u001b[0m\u001b[0m\n",
      "\u001b[0;31mNameError\u001b[0m: name 'PIL' is not defined"
     ]
    }
   ],
   "source": [
    "\n",
    "img = PIL.Image.open('img.jpg')\n",
    "exif_data = img._getexif()\n",
    "print(exif_data)"
   ]
  },
  {
   "cell_type": "code",
   "execution_count": 4,
   "metadata": {},
   "outputs": [
    {
     "output_type": "stream",
     "name": "stdout",
     "text": [
      "Created Demo folder\n/home/rene/Coding\n/home/rene/Coding/Demo\n"
     ]
    }
   ],
   "source": [
    "#Create the demo folder \n",
    "if not os.path.exists('Demo'):\n",
    "    os.makedirs('Demo')\n",
    "    print(\"Created Demo folder\")\n",
    "print(os.getcwd())\n",
    "os.chdir('Demo')\n",
    "print(os.getcwd())"
   ]
  },
  {
   "cell_type": "code",
   "execution_count": 5,
   "metadata": {},
   "outputs": [],
   "source": [
    "#define employye list\n",
    "team = ['Arunas','Vidas','Ludolf','Sina','Levi','Jacob','Kappa','Johannes','Holger']"
   ]
  },
  {
   "cell_type": "code",
   "execution_count": 6,
   "metadata": {},
   "outputs": [],
   "source": [
    "#define project list bv = Bauvorhaben  \n",
    "bv = ['Brandenburger Tor','Bellevue','Bundestag','Elbphilharmonie','Schloss Neuschwanstein']"
   ]
  },
  {
   "cell_type": "code",
   "execution_count": 7,
   "metadata": {},
   "outputs": [
    {
     "output_type": "stream",
     "name": "stdout",
     "text": [
      "Created Fairworker folder\n",
      "Created Arunas folder\n",
      "Created Brandenburger Tor folder for Arunas\n",
      "Created Bellevue folder for Arunas\n",
      "Created Bundestag folder for Arunas\n",
      "Created Elbphilharmonie folder for Arunas\n",
      "Created Schloss Neuschwanstein folder for Arunas\n",
      "Created Vidas folder\n",
      "Created Brandenburger Tor folder for Vidas\n",
      "Created Bellevue folder for Vidas\n",
      "Created Bundestag folder for Vidas\n",
      "Created Elbphilharmonie folder for Vidas\n",
      "Created Schloss Neuschwanstein folder for Vidas\n",
      "Created Ludolf folder\n",
      "Created Brandenburger Tor folder for Ludolf\n",
      "Created Bellevue folder for Ludolf\n",
      "Created Bundestag folder for Ludolf\n",
      "Created Elbphilharmonie folder for Ludolf\n",
      "Created Schloss Neuschwanstein folder for Ludolf\n",
      "Created Sina folder\n",
      "Created Brandenburger Tor folder for Sina\n",
      "Created Bellevue folder for Sina\n",
      "Created Bundestag folder for Sina\n",
      "Created Elbphilharmonie folder for Sina\n",
      "Created Schloss Neuschwanstein folder for Sina\n",
      "Created Levi folder\n",
      "Created Brandenburger Tor folder for Levi\n",
      "Created Bellevue folder for Levi\n",
      "Created Bundestag folder for Levi\n",
      "Created Elbphilharmonie folder for Levi\n",
      "Created Schloss Neuschwanstein folder for Levi\n",
      "Created Jacob folder\n",
      "Created Brandenburger Tor folder for Jacob\n",
      "Created Bellevue folder for Jacob\n",
      "Created Bundestag folder for Jacob\n",
      "Created Elbphilharmonie folder for Jacob\n",
      "Created Schloss Neuschwanstein folder for Jacob\n",
      "Created Kappa folder\n",
      "Created Brandenburger Tor folder for Kappa\n",
      "Created Bellevue folder for Kappa\n",
      "Created Bundestag folder for Kappa\n",
      "Created Elbphilharmonie folder for Kappa\n",
      "Created Schloss Neuschwanstein folder for Kappa\n",
      "Created Johannes folder\n",
      "Created Brandenburger Tor folder for Johannes\n",
      "Created Bellevue folder for Johannes\n",
      "Created Bundestag folder for Johannes\n",
      "Created Elbphilharmonie folder for Johannes\n",
      "Created Schloss Neuschwanstein folder for Johannes\n",
      "Created Holger folder\n",
      "Created Brandenburger Tor folder for Holger\n",
      "Created Bellevue folder for Holger\n",
      "Created Bundestag folder for Holger\n",
      "Created Elbphilharmonie folder for Holger\n",
      "Created Schloss Neuschwanstein folder for Holger\n",
      "['Levi', 'Ludolf', 'Kappa', 'Sina', 'Johannes', 'Jacob', 'Arunas', 'Holger', 'Vidas']\n"
     ]
    }
   ],
   "source": [
    "#Create emplyee folders\n",
    "if not os.path.exists('Fairworker'):\n",
    "    os.makedirs('Fairworker')\n",
    "    print(\"Created Fairworker folder\")\n",
    "os.chdir('Fairworker')\n",
    "\n",
    "for member in team :\n",
    "    if not os.path.exists(member):\n",
    "        os.makedirs(member)\n",
    "        print(f\"Created {member} folder\")\n",
    "        for project in bv :\n",
    "            if not os.path.exists(member+'/'+project):\n",
    "                os.makedirs(member+'/'+project)\n",
    "                print(f\"Created {project} folder for {member}\")\n",
    "\n",
    "            \n",
    "\n",
    "\n",
    "print(os.listdir())\n",
    "    \n",
    "    \n",
    "# Create project upload folders \n",
    "\n",
    "# Create random number of images for every project "
   ]
  },
  {
   "cell_type": "code",
   "execution_count": 7,
   "metadata": {},
   "outputs": [],
   "source": [
    "\n",
    "    "
   ]
  }
 ]
}